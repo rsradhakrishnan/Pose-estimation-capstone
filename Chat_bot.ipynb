{
  "nbformat": 4,
  "nbformat_minor": 0,
  "metadata": {
    "colab": {
      "name": "Chat-bot.ipynb",
      "provenance": [],
      "collapsed_sections": [],
      "authorship_tag": "ABX9TyMR371jdeY1eHJWoCnaZ7tK",
      "include_colab_link": true
    },
    "kernelspec": {
      "name": "python3",
      "display_name": "Python 3"
    },
    "accelerator": "GPU"
  },
  "cells": [
    {
      "cell_type": "markdown",
      "metadata": {
        "id": "view-in-github",
        "colab_type": "text"
      },
      "source": [
        "<a href=\"https://colab.research.google.com/github/rsradhakrishnan/capstone-projects/blob/main/Chat_bot.ipynb\" target=\"_parent\"><img src=\"https://colab.research.google.com/assets/colab-badge.svg\" alt=\"Open In Colab\"/></a>"
      ]
    },
    {
      "cell_type": "code",
      "metadata": {
        "id": "qoMpogiV3QfX",
        "colab": {
          "base_uri": "https://localhost:8080/",
          "height": 357
        },
        "outputId": "73f8c77f-816d-4c82-aaaf-bf6bbc92c494"
      },
      "source": [
        "!nvidia-smi"
      ],
      "execution_count": null,
      "outputs": [
        {
          "output_type": "stream",
          "text": [
            "Sun Oct 25 17:37:33 2020       \n",
            "+-----------------------------------------------------------------------------+\n",
            "| NVIDIA-SMI 455.23.05    Driver Version: 418.67       CUDA Version: 10.1     |\n",
            "|-------------------------------+----------------------+----------------------+\n",
            "| GPU  Name        Persistence-M| Bus-Id        Disp.A | Volatile Uncorr. ECC |\n",
            "| Fan  Temp  Perf  Pwr:Usage/Cap|         Memory-Usage | GPU-Util  Compute M. |\n",
            "|                               |                      |               MIG M. |\n",
            "|===============================+======================+======================|\n",
            "|   0  Tesla T4            Off  | 00000000:00:04.0 Off |                    0 |\n",
            "| N/A   43C    P8    10W /  70W |      0MiB / 15079MiB |      0%      Default |\n",
            "|                               |                      |                 ERR! |\n",
            "+-------------------------------+----------------------+----------------------+\n",
            "                                                                               \n",
            "+-----------------------------------------------------------------------------+\n",
            "| Processes:                                                                  |\n",
            "|  GPU   GI   CI        PID   Type   Process name                  GPU Memory |\n",
            "|        ID   ID                                                   Usage      |\n",
            "|=============================================================================|\n",
            "|  No running processes found                                                 |\n",
            "+-----------------------------------------------------------------------------+\n"
          ],
          "name": "stdout"
        }
      ]
    },
    {
      "cell_type": "code",
      "metadata": {
        "id": "PvFjaRsnUl4M",
        "colab": {
          "base_uri": "https://localhost:8080/",
          "height": 34
        },
        "outputId": "d7f28258-fd06-4a77-8223-e8a45b8945c3"
      },
      "source": [
        "from google.colab import drive\n",
        "drive.mount('/gdrive', force_remount=True)"
      ],
      "execution_count": null,
      "outputs": [
        {
          "output_type": "stream",
          "text": [
            "Mounted at /gdrive\n"
          ],
          "name": "stdout"
        }
      ]
    },
    {
      "cell_type": "code",
      "metadata": {
        "id": "s-o8TTYWFCtf"
      },
      "source": [
        "import keras\n",
        "import tensorflow as tf\n",
        "import nltk\n",
        "import numpy\n",
        "import sklearn\n",
        "from keras.models import Model\n",
        "from keras.layers.recurrent import LSTM\n",
        "from keras.layers import Dense, Input, Embedding\n",
        "from keras.preprocessing.sequence import pad_sequences\n",
        "from keras.callbacks import ModelCheckpoint\n",
        "from collections import Counter\n",
        "import nltk\n",
        "import numpy as np\n",
        "from sklearn.model_selection import train_test_split"
      ],
      "execution_count": null,
      "outputs": []
    },
    {
      "cell_type": "code",
      "metadata": {
        "id": "5OrGnKlwVYCZ"
      },
      "source": [
        "RAND_STATE=np.random.seed(42)\n",
        "BATCH_SIZE = 256\n",
        "NUM_EPOCHS = 10\n",
        "GLOVE_EMBEDDING_SIZE = 100\n",
        "HIDDEN_UNITS = 256\n",
        "MAX_INPUT_SEQ_LENGTH = 40\n",
        "MAX_TARGET_SEQ_LENGTH = 40\n",
        "MAX_VOCAB_SIZE = 10000\n",
        "DATA_SET_NAME = 'cornell'\n",
        "DATA_PATH = '/gdrive/My Drive/Industry_Project /movie_lines_cleaned.txt'\n",
        "GLOVE_MODEL = \"/gdrive/My Drive/Industry_Project /glove.twitter.27B.100d.txt\"\n",
        "WHITELIST = 'abcdefghijklmnopqrstuvwxyz1234567890?.,'\n",
        "WEIGHT_FILE_PATH =  DATA_SET_NAME + '-word-glove-weights.h5'"
      ],
      "execution_count": null,
      "outputs": []
    },
    {
      "cell_type": "code",
      "metadata": {
        "id": "Ok8Rq8_aVvuf"
      },
      "source": [
        "def in_white_list(_word):\n",
        "    for char in _word:\n",
        "        if char in WHITELIST:\n",
        "            return True\n",
        "    return False"
      ],
      "execution_count": null,
      "outputs": []
    },
    {
      "cell_type": "markdown",
      "metadata": {
        "id": "hBBJOy6ZV_6l"
      },
      "source": [
        "##Glove model\n"
      ]
    },
    {
      "cell_type": "code",
      "metadata": {
        "id": "oQLTIVhMV51H"
      },
      "source": [
        "\n",
        "def load_glove_vector():\n",
        "    _word2embedding = {}\n",
        "    file = open(GLOVE_MODEL, mode='rt', encoding='utf8')\n",
        "    for line in file:\n",
        "        words = line.strip().split()\n",
        "        word = words[0]\n",
        "        #embedding_vectors = np.asarray(words[1:])\n",
        "        embedding_vectors = np.array(words[1:], dtype=np.float32)\n",
        "        _word2embedding[word] = embedding_vectors\n",
        "    file.close()\n",
        "    return _word2embedding"
      ],
      "execution_count": null,
      "outputs": []
    },
    {
      "cell_type": "code",
      "metadata": {
        "id": "UukMp76nYEjP",
        "colab": {
          "base_uri": "https://localhost:8080/",
          "height": 51
        },
        "outputId": "72c71607-d0d7-41d0-df39-fdb077a19a7e"
      },
      "source": [
        "%%time\n",
        "word2embed = load_glove_vector()"
      ],
      "execution_count": null,
      "outputs": [
        {
          "output_type": "stream",
          "text": [
            "CPU times: user 28 s, sys: 894 ms, total: 28.9 s\n",
            "Wall time: 28.9 s\n"
          ],
          "name": "stdout"
        }
      ]
    },
    {
      "cell_type": "code",
      "metadata": {
        "id": "Kh240N7RZ43Y",
        "colab": {
          "base_uri": "https://localhost:8080/",
          "height": 34
        },
        "outputId": "a1937ce5-86f2-47ee-eed0-ef3757168519"
      },
      "source": [
        "len(word2embed.keys())"
      ],
      "execution_count": null,
      "outputs": [
        {
          "output_type": "execute_result",
          "data": {
            "text/plain": [
              "1193514"
            ]
          },
          "metadata": {
            "tags": []
          },
          "execution_count": 8
        }
      ]
    },
    {
      "cell_type": "code",
      "metadata": {
        "id": "6DeJMDKoaHEV",
        "colab": {
          "base_uri": "https://localhost:8080/",
          "height": 374
        },
        "outputId": "68e3281b-4fb7-4d8a-b9e6-9be475344d38"
      },
      "source": [
        "word2embed.get('train')"
      ],
      "execution_count": null,
      "outputs": [
        {
          "output_type": "execute_result",
          "data": {
            "text/plain": [
              "array([ 7.8224e-01,  2.1289e-01, -3.7750e-01, -1.0542e+00,  7.1538e-02,\n",
              "        6.5285e-01, -5.0393e-02,  1.4292e-02, -3.3518e-01,  2.0516e-01,\n",
              "       -5.7545e-02,  5.8780e-01, -3.4255e+00, -3.9355e-01, -1.9521e-01,\n",
              "        1.6188e-01,  3.3833e-02, -2.4486e-01, -6.7231e-01, -3.0219e-01,\n",
              "       -1.2911e-01, -1.0401e+00,  3.8679e-01, -5.5795e-01,  5.6450e-01,\n",
              "       -4.3825e-01, -7.3374e-01,  5.0109e-01, -1.3601e-01,  1.4848e+00,\n",
              "        1.1157e-01, -3.2571e-01, -7.0612e-01,  4.5017e-02,  5.7258e-01,\n",
              "       -1.3414e-01, -1.3751e-01,  2.5518e-02,  1.1558e+00, -1.2307e-01,\n",
              "        2.0635e-01,  1.1790e+00, -2.9565e-03, -5.6660e-01,  8.8233e-01,\n",
              "       -2.0549e-01,  5.0556e-01, -2.8319e-01, -3.6040e-01, -4.7111e-01,\n",
              "        3.1520e-01,  3.1712e-01, -1.4541e-01, -3.1394e-01, -6.7899e-01,\n",
              "        8.6945e-02,  5.0997e-01,  5.0802e-01,  1.8457e-01,  1.1322e-01,\n",
              "        7.1866e-01,  1.5100e-01,  2.5895e-01,  3.6208e-01, -6.0227e-01,\n",
              "       -6.3969e-01, -1.3120e-01,  5.0847e-01, -2.6322e-01,  3.8793e-01,\n",
              "        8.6960e-01,  1.0897e-01,  7.9938e-01,  8.4588e-01, -4.0655e-01,\n",
              "        2.7099e-01,  1.8998e-01, -3.7842e-01,  4.9805e-01, -1.3854e+00,\n",
              "        1.5588e+00, -7.4115e-01, -1.4511e-01,  9.7982e-02,  3.0477e-01,\n",
              "        5.6467e-01, -9.7327e-01, -5.5750e-01,  1.1909e+00, -4.1910e-01,\n",
              "        8.2096e-01,  3.2119e-01, -5.3355e-01,  5.4771e-01, -4.3914e-02,\n",
              "        3.0235e-01, -5.6655e-01,  1.1961e-01,  6.2425e-02, -2.9144e-01],\n",
              "      dtype=float32)"
            ]
          },
          "metadata": {
            "tags": []
          },
          "execution_count": 9
        }
      ]
    },
    {
      "cell_type": "code",
      "metadata": {
        "id": "TEvt02lMaeCu",
        "colab": {
          "base_uri": "https://localhost:8080/",
          "height": 34
        },
        "outputId": "9ac5d8e8-b625-47d6-81e1-bd45eebe8b2b"
      },
      "source": [
        "word2embed.get('train').shape"
      ],
      "execution_count": null,
      "outputs": [
        {
          "output_type": "execute_result",
          "data": {
            "text/plain": [
              "(100,)"
            ]
          },
          "metadata": {
            "tags": []
          },
          "execution_count": 10
        }
      ]
    },
    {
      "cell_type": "code",
      "metadata": {
        "id": "ulMk8-dDahyO"
      },
      "source": [
        "#word2embed.get('judafbaidb').shape"
      ],
      "execution_count": null,
      "outputs": []
    },
    {
      "cell_type": "code",
      "metadata": {
        "id": "G8G5njybanq2",
        "colab": {
          "base_uri": "https://localhost:8080/",
          "height": 52
        },
        "outputId": "5e121155-fdcf-4da5-f470-8a23995919a8"
      },
      "source": [
        "'''\n",
        "assert len(word2embedding.keys())==1193513\n",
        "for key in word2embedding.keys():\n",
        "    try:\n",
        "        assert len(word2embedding[key])==100\n",
        "    except AssertionError:\n",
        "        print (key,len(word2embedding[key]))     \n",
        "\n",
        "'''"
      ],
      "execution_count": null,
      "outputs": [
        {
          "output_type": "execute_result",
          "data": {
            "application/vnd.google.colaboratory.intrinsic+json": {
              "type": "string"
            },
            "text/plain": [
              "'\\nassert len(word2embedding.keys())==1193513\\nfor key in word2embedding.keys():\\n    try:\\n        assert len(word2embedding[key])==100\\n    except AssertionError:\\n        print (key,len(word2embedding[key]))     \\n\\n'"
            ]
          },
          "metadata": {
            "tags": []
          },
          "execution_count": 11
        }
      ]
    },
    {
      "cell_type": "code",
      "metadata": {
        "id": "gBrxAfCabQ8W"
      },
      "source": [
        "target_counter = Counter()\n",
        "lines = open(DATA_PATH, 'rt', encoding='utf8').read().split('\\n')\n",
        "input_texts = []\n",
        "target_texts = []\n",
        "prev_words = []"
      ],
      "execution_count": null,
      "outputs": []
    },
    {
      "cell_type": "markdown",
      "metadata": {
        "id": "SrUUrXgCS75n"
      },
      "source": [
        "##Preprocessing"
      ]
    },
    {
      "cell_type": "code",
      "metadata": {
        "id": "8A85JklKbf81",
        "colab": {
          "base_uri": "https://localhost:8080/",
          "height": 68
        },
        "outputId": "782df4de-61bf-4b69-afeb-b888004626d3"
      },
      "source": [
        "import nltk\n",
        "nltk.download('punkt')"
      ],
      "execution_count": null,
      "outputs": [
        {
          "output_type": "stream",
          "text": [
            "[nltk_data] Downloading package punkt to /root/nltk_data...\n",
            "[nltk_data]   Package punkt is already up-to-date!\n"
          ],
          "name": "stdout"
        },
        {
          "output_type": "execute_result",
          "data": {
            "text/plain": [
              "True"
            ]
          },
          "metadata": {
            "tags": []
          },
          "execution_count": 9
        }
      ]
    },
    {
      "cell_type": "code",
      "metadata": {
        "id": "zb1XMRaQbXW9",
        "colab": {
          "base_uri": "https://localhost:8080/",
          "height": 51
        },
        "outputId": "b7131830-7f27-4233-bdea-c812c21687dc"
      },
      "source": [
        "%%time\n",
        "for line in lines:\n",
        "    next_words = [w.lower() for w in nltk.word_tokenize(line)]\n",
        "    if len(next_words) > MAX_TARGET_SEQ_LENGTH:\n",
        "        next_words = next_words[0:MAX_TARGET_SEQ_LENGTH]\n",
        "    if len(prev_words) > 0:\n",
        "        input_texts.append(prev_words)\n",
        "        target_words = next_words[:]\n",
        "        target_words.insert(0, 'start')\n",
        "        target_words.append('end')\n",
        "        for w in target_words:\n",
        "            target_counter[w] += 1\n",
        "        target_texts.append(target_words)\n",
        "    prev_words = next_words"
      ],
      "execution_count": null,
      "outputs": [
        {
          "output_type": "stream",
          "text": [
            "CPU times: user 48.7 s, sys: 292 ms, total: 49 s\n",
            "Wall time: 49 s\n"
          ],
          "name": "stdout"
        }
      ]
    },
    {
      "cell_type": "code",
      "metadata": {
        "id": "Dqq7wf5TbbPt",
        "colab": {
          "base_uri": "https://localhost:8080/",
          "height": 119
        },
        "outputId": "c3aab39c-1fe5-4323-8cac-4b065003914f"
      },
      "source": [
        "#after Preprocessing\n",
        "for idx, (input_words, target_words) in enumerate(zip(input_texts, target_texts)):\n",
        "    if idx > 5:\n",
        "        break\n",
        "    print([input_words, target_words])"
      ],
      "execution_count": null,
      "outputs": [
        {
          "output_type": "stream",
          "text": [
            "[['they', 'do', 'not', '!'], ['start', 'they', 'do', 'to', '!', 'end']]\n",
            "[['they', 'do', 'to', '!'], ['start', 'i', 'hope', 'so', '.', 'end']]\n",
            "[['i', 'hope', 'so', '.'], ['start', 'she', 'okay', '?', 'end']]\n",
            "[['she', 'okay', '?'], ['start', 'let', \"'s\", 'go', '.', 'end']]\n",
            "[['let', \"'s\", 'go', '.'], ['start', 'wow', 'end']]\n",
            "[['wow'], ['start', 'okay', '--', 'you', \"'re\", 'gon', 'na', 'need', 'to', 'learn', 'how', 'to', 'lie', '.', 'end']]\n"
          ],
          "name": "stdout"
        }
      ]
    },
    {
      "cell_type": "markdown",
      "metadata": {
        "id": "RNWhpLCzuORr"
      },
      "source": [
        "## word2index and index2word dictionaries"
      ]
    },
    {
      "cell_type": "code",
      "metadata": {
        "id": "hCHPIg50cq3I"
      },
      "source": [
        "target_word2idx = dict()\n",
        "'''create a target word to id dictionary called target_word2idx.\n",
        "'''\n",
        "\n",
        "for idx, word in enumerate(target_counter.most_common(MAX_VOCAB_SIZE)):\n",
        "    target_word2idx[word[0]] = idx + 1\n",
        "\n",
        "if 'unk' not in target_word2idx:\n",
        "    target_word2idx['unk'] = 0\n",
        "\n",
        "'''create a target to id dictionary called target_idx2word . '''\n",
        "\n",
        "target_idx2word = dict([(idx, word) for word, idx in target_word2idx.items()])\n",
        "\n",
        "num_decoder_tokens = len(target_idx2word)+1\n",
        "\n",
        "np.save('word-glove-target-word2idx.npy', target_word2idx)\n",
        "np.save('word-glove-target-idx2word.npy', target_idx2word)"
      ],
      "execution_count": null,
      "outputs": []
    },
    {
      "cell_type": "code",
      "metadata": {
        "id": "OaeYpctKd0p8"
      },
      "source": [
        "#assert len (target_word2idx.keys())==len (target_idx2word.keys())==MAX_VOCAB_SIZE+1"
      ],
      "execution_count": null,
      "outputs": []
    },
    {
      "cell_type": "markdown",
      "metadata": {
        "id": "fLrGzPE8wsnS"
      },
      "source": [
        "##creating dictionary of word embedding using loaded glove"
      ]
    },
    {
      "cell_type": "code",
      "metadata": {
        "id": "zicVbvh6i2Be"
      },
      "source": [
        "input_texts_word2em = []\n",
        "\n",
        "encoder_max_seq_length = 0\n",
        "decoder_max_seq_length = 0\n",
        "\n",
        "for input_words, target_words in zip(input_texts, target_texts):\n",
        "    encoder_input_wids = []\n",
        "    for w in input_words:\n",
        "        emb = np.zeros(shape=GLOVE_EMBEDDING_SIZE)\n",
        "        if w in word2embed:\n",
        "            emb = word2embed[w]\n",
        "        encoder_input_wids.append(emb)\n",
        "\n",
        "    input_texts_word2em.append(encoder_input_wids)\n",
        "    encoder_max_seq_length = max(len(encoder_input_wids), encoder_max_seq_length)\n",
        "    decoder_max_seq_length = max(len(target_words), decoder_max_seq_length)\n",
        "\n",
        "context = dict()\n",
        "context['num_decoder_tokens'] = num_decoder_tokens\n",
        "context['encoder_max_seq_length'] = encoder_max_seq_length\n",
        "context['decoder_max_seq_length'] = decoder_max_seq_length\n",
        "\n",
        "\n",
        "np.save('word-glove-context.npy', context)"
      ],
      "execution_count": null,
      "outputs": []
    },
    {
      "cell_type": "code",
      "metadata": {
        "id": "1CqgVkeUjyPl",
        "colab": {
          "base_uri": "https://localhost:8080/",
          "height": 34
        },
        "outputId": "ad0fcba6-0cf5-4749-a41e-c5215f9da31a"
      },
      "source": [
        "print(context)"
      ],
      "execution_count": null,
      "outputs": [
        {
          "output_type": "stream",
          "text": [
            "{'num_decoder_tokens': 10002, 'encoder_max_seq_length': 40, 'decoder_max_seq_length': 42}\n"
          ],
          "name": "stdout"
        }
      ]
    },
    {
      "cell_type": "code",
      "metadata": {
        "id": "_uYKAXASe1XX"
      },
      "source": [
        "#for input_text,input_text_embed in zip (input_texts,range(len(input_texts_word2em))):\n",
        "#   assert (len(input_text)==len(input_texts_word2em[input_text_embed]))"
      ],
      "execution_count": null,
      "outputs": []
    },
    {
      "cell_type": "markdown",
      "metadata": {
        "id": "uw28_8aHu8ls"
      },
      "source": [
        "#Generating batches of data"
      ]
    },
    {
      "cell_type": "code",
      "metadata": {
        "id": "PwMpItndj-Lc"
      },
      "source": [
        "def generate_batch(input_word2em_data, output_text_data):\n",
        "    num_batches = len(input_word2em_data) // BATCH_SIZE\n",
        "    while True:\n",
        "        for batchIdx in range(0, num_batches):\n",
        "            start = batchIdx * BATCH_SIZE\n",
        "            end = (batchIdx + 1) * BATCH_SIZE\n",
        "            encoder_input_data_batch = pad_sequences(input_word2em_data[start:end], encoder_max_seq_length)\n",
        "            decoder_target_data_batch = np.zeros(shape=(BATCH_SIZE, decoder_max_seq_length, num_decoder_tokens))\n",
        "            decoder_input_data_batch = np.zeros(shape=(BATCH_SIZE, decoder_max_seq_length, GLOVE_EMBEDDING_SIZE))\n",
        "            for lineIdx, target_words in enumerate(output_text_data[start:end]):\n",
        "                for idx, w in enumerate(target_words):\n",
        "                    w2idx = target_word2idx['unknown']  #by default unknown\n",
        "                    if w in target_word2idx:\n",
        "                        w2idx = target_word2idx[w]\n",
        "                    if w in word2embed:\n",
        "                        decoder_input_data_batch[lineIdx, idx, :] = word2embed[w]\n",
        "                    if idx > 0:\n",
        "                        decoder_target_data_batch[lineIdx, idx - 1, w2idx] = 1\n",
        "            yield [encoder_input_data_batch, decoder_input_data_batch], decoder_target_data_batch"
      ],
      "execution_count": null,
      "outputs": []
    },
    {
      "cell_type": "code",
      "metadata": {
        "id": "tDLKCftHgQhq",
        "colab": {
          "base_uri": "https://localhost:8080/",
          "height": 103
        },
        "outputId": "fd7062c4-5138-4205-97e2-ad1a631cf9e3"
      },
      "source": [
        "'''\n",
        "Xtrain, Xtest, Ytrain, Ytest = train_test_split(input_texts_word2em, target_texts, test_size=0.2, random_state=42)\n",
        "train_gen = generate_batch(Xtrain, Ytrain)\n",
        "for i,j in train_gen:\n",
        "    assert i[0].shape == (BATCH_SIZE,context['encoder_max_seq_length'],GLOVE_EMBEDDING_SIZE)\n",
        "    assert i[1].shape == (BATCH_SIZE,context['decoder_max_seq_length'],GLOVE_EMBEDDING_SIZE)\n",
        "    assert j.shape == (BATCH_SIZE,context['decoder_max_seq_length'],context['num_decoder_tokens'])\n",
        "\n",
        "print ('Test Case 4 Passes!')\n",
        "'''"
      ],
      "execution_count": null,
      "outputs": [
        {
          "output_type": "execute_result",
          "data": {
            "application/vnd.google.colaboratory.intrinsic+json": {
              "type": "string"
            },
            "text/plain": [
              "\"\\nXtrain, Xtest, Ytrain, Ytest = train_test_split(input_texts_word2em, target_texts, test_size=0.2, random_state=42)\\ntrain_gen = generate_batch(Xtrain, Ytrain)\\nfor i,j in train_gen:\\n    assert i[0].shape == (BATCH_SIZE,context['encoder_max_seq_length'],GLOVE_EMBEDDING_SIZE)\\n    assert i[1].shape == (BATCH_SIZE,context['decoder_max_seq_length'],GLOVE_EMBEDDING_SIZE)\\n    assert j.shape == (BATCH_SIZE,context['decoder_max_seq_length'],context['num_decoder_tokens'])\\n\\nprint ('Test Case 4 Passes!')\\n\""
            ]
          },
          "metadata": {
            "tags": []
          },
          "execution_count": 28
        }
      ]
    },
    {
      "cell_type": "markdown",
      "metadata": {
        "id": "88WwSYQOuwXz"
      },
      "source": [
        "#Splitting in to Train and Validation data "
      ]
    },
    {
      "cell_type": "code",
      "metadata": {
        "id": "F-rUVv1JghIe"
      },
      "source": [
        "Xtrain, Xtest, Ytrain, Ytest = train_test_split(input_texts_word2em, target_texts, test_size=0.2, random_state=42)\n",
        "\n",
        "#execution and updation of wt in batches\n",
        "train_gen = generate_batch(Xtrain, Ytrain)\n",
        "test_gen = generate_batch(Xtest, Ytest)\n",
        "\n",
        "train_num_batches = len(Xtrain) // BATCH_SIZE\n",
        "test_num_batches = len(Xtest) // BATCH_SIZE"
      ],
      "execution_count": null,
      "outputs": []
    },
    {
      "cell_type": "markdown",
      "metadata": {
        "id": "0J8kklRuufsT"
      },
      "source": [
        "#model"
      ]
    },
    {
      "cell_type": "code",
      "metadata": {
        "id": "RmVuXb0JbVCo",
        "colab": {
          "base_uri": "https://localhost:8080/",
          "height": 34
        },
        "outputId": "7aa9b724-22cf-4783-d072-cf5473674ace"
      },
      "source": [
        "#Encoder layers \n",
        "encoder_inputs = Input(shape=(None, GLOVE_EMBEDDING_SIZE), name='encoder_inputs')\n",
        "encoder_lstm = LSTM(units=HIDDEN_UNITS, return_state=True, name='encoder_lstm', )\n",
        "encoder_outputs, encoder_state_h, encoder_state_c = encoder_lstm(encoder_inputs)\n",
        "encoder_states = [encoder_state_h, encoder_state_c]\n",
        "\n",
        "#Decoder layers \n",
        "decoder_inputs = Input(shape=(None, GLOVE_EMBEDDING_SIZE), name='decoder_inputs')\n",
        "decoder_lstm = LSTM(units=HIDDEN_UNITS, return_state=True, return_sequences=True, name='decoder_lstm')\n",
        "decoder_outputs, decoder_state_h, decoder_state_c = decoder_lstm(decoder_inputs,\n",
        "                                                                 initial_state=encoder_states)\n",
        "decoder_dense = Dense(units=num_decoder_tokens, activation='softmax', name='decoder_dense')\n",
        "decoder_outputs = decoder_dense(decoder_outputs)\n",
        "#model \n",
        "model = Model([encoder_inputs, decoder_inputs], decoder_outputs)\n",
        "model.compile(loss='categorical_crossentropy', optimizer='rmsprop',metrics=['accuracy'])\n",
        "json = model.to_json()\n",
        "open('word-architecture.json', 'w').write(json)"
      ],
      "execution_count": null,
      "outputs": [
        {
          "output_type": "execute_result",
          "data": {
            "text/plain": [
              "3048"
            ]
          },
          "metadata": {
            "tags": []
          },
          "execution_count": 16
        }
      ]
    },
    {
      "cell_type": "code",
      "metadata": {
        "id": "Fe2zuRGFbuj5",
        "colab": {
          "base_uri": "https://localhost:8080/",
          "height": 417
        },
        "outputId": "788e2423-3312-4dd7-87d2-f951833b93ab"
      },
      "source": [
        "from keras.utils import plot_model\n",
        "plot_model(model, to_file='model.png')\n",
        "from IPython.display import Image\n",
        "Image(filename='model.png',height=400,width=400)"
      ],
      "execution_count": null,
      "outputs": [
        {
          "output_type": "execute_result",
          "data": {
            "image/png": "[encoded data removed]",
            "text/plain": [
              "<IPython.core.display.Image object>"
            ]
          },
          "metadata": {
            "tags": [],
            "image/png": {
              "width": 400,
              "height": 400
            }
          },
          "execution_count": 17
        }
      ]
    },
    {
      "cell_type": "code",
      "metadata": {
        "id": "krMIGDfgt8Ic"
      },
      "source": [
        "checkpoint = ModelCheckpoint(filepath=WEIGHT_FILE_PATH, save_best_only=True)"
      ],
      "execution_count": null,
      "outputs": []
    },
    {
      "cell_type": "markdown",
      "metadata": {
        "id": "8fCOzDeZX_p_"
      },
      "source": [
        "## Training chatbot model"
      ]
    },
    {
      "cell_type": "code",
      "metadata": {
        "id": "oRcIRVz2bdOr",
        "colab": {
          "base_uri": "https://localhost:8080/",
          "height": 224
        },
        "outputId": "a5c0eb50-46a5-467b-c3ba-052ff2177013"
      },
      "source": [
        "model.fit(x=train_gen, steps_per_epoch=train_num_batches,\n",
        "          epochs=NUM_EPOCHS,\n",
        "          verbose=1, validation_data=test_gen, validation_steps=test_num_batches, callbacks=[checkpoint])"
      ],
      "execution_count": null,
      "outputs": [
        {
          "output_type": "stream",
          "text": [
            "Epoch 1/5\n",
            "951/951 [==============================] - 526s 553ms/step - loss: 1.5301 - accuracy: 0.0719 - val_loss: 1.4120 - val_accuracy: 0.0845\n",
            "Epoch 2/5\n",
            "951/951 [==============================] - 531s 559ms/step - loss: 1.3666 - accuracy: 0.0882 - val_loss: 1.3514 - val_accuracy: 0.0908\n",
            "Epoch 3/5\n",
            "951/951 [==============================] - 524s 551ms/step - loss: 1.3234 - accuracy: 0.0921 - val_loss: 1.3254 - val_accuracy: 0.0935\n",
            "Epoch 4/5\n",
            "951/951 [==============================] - 511s 538ms/step - loss: 1.2999 - accuracy: 0.0943 - val_loss: 1.3117 - val_accuracy: 0.0948\n",
            "Epoch 5/5\n",
            "951/951 [==============================] - 515s 542ms/step - loss: 1.2846 - accuracy: 0.0958 - val_loss: 1.3031 - val_accuracy: 0.0958\n"
          ],
          "name": "stdout"
        },
        {
          "output_type": "execute_result",
          "data": {
            "text/plain": [
              "<tensorflow.python.keras.callbacks.History at 0x7f556bf99da0>"
            ]
          },
          "metadata": {
            "tags": []
          },
          "execution_count": 32
        }
      ]
    },
    {
      "cell_type": "code",
      "metadata": {
        "id": "-aoEMo7qbjAS"
      },
      "source": [
        "\n",
        "model.save_weights(WEIGHT_FILE_PATH)"
      ],
      "execution_count": null,
      "outputs": []
    },
    {
      "cell_type": "code",
      "metadata": {
        "id": "1CpeqBGcgnGs"
      },
      "source": [
        "model.save('partly_trained.h5')"
      ],
      "execution_count": null,
      "outputs": []
    },
    {
      "cell_type": "markdown",
      "metadata": {
        "id": "quapR00w2bfA"
      },
      "source": [
        "##loading half trained model"
      ]
    },
    {
      "cell_type": "code",
      "metadata": {
        "id": "7T6WPUV1gBDW",
        "colab": {
          "base_uri": "https://localhost:8080/",
          "height": 34
        },
        "outputId": "bdc03f60-e831-463a-a763-232c4f409137"
      },
      "source": [
        "from keras import backend as K\n",
        "from keras.models import load_model\n",
        "loaded_model =  keras.models.load_model('partly_trained.h5')\n",
        "print(\"Learning rate before first fit:\", loaded_model.optimizer.learning_rate.numpy())"
      ],
      "execution_count": null,
      "outputs": [
        {
          "output_type": "stream",
          "text": [
            "Learning rate before first fit: 0.01\n"
          ],
          "name": "stdout"
        }
      ]
    },
    {
      "cell_type": "code",
      "metadata": {
        "id": "Io53a81J-EJ0"
      },
      "source": [
        "K.set_value(loaded_model.optimizer.learning_rate, 0.001)"
      ],
      "execution_count": null,
      "outputs": []
    },
    {
      "cell_type": "code",
      "metadata": {
        "id": "KJI2oyEe-0zM",
        "colab": {
          "base_uri": "https://localhost:8080/",
          "height": 34
        },
        "outputId": "cc909743-c397-402c-c3d4-cac8db3fc613"
      },
      "source": [
        "print(\"Learning rate after first fit:\", loaded_model.optimizer.learning_rate.numpy())"
      ],
      "execution_count": null,
      "outputs": [
        {
          "output_type": "stream",
          "text": [
            "Learning rate after first fit: 0.001\n"
          ],
          "name": "stdout"
        }
      ]
    },
    {
      "cell_type": "code",
      "metadata": {
        "id": "_5QTVHKpgRev",
        "colab": {
          "base_uri": "https://localhost:8080/",
          "height": 51
        },
        "outputId": "44222226-bfba-4256-cd16-7c3ff62b2987"
      },
      "source": [
        "%%time\n",
        "history = loaded_model.fit(x=train_gen, steps_per_epoch=train_num_batches,\n",
        "          epochs=10,\n",
        "          verbose=1, validation_data=test_gen, validation_steps=test_num_batches, callbacks=[checkpoint])"
      ],
      "execution_count": null,
      "outputs": [
        {
          "output_type": "stream",
          "text": [
            "Epoch 1/5\n",
            "1260/1260 [==============================] - ETA: 0s - loss: 1.2318 - accuracy: 0.1043"
          ],
          "name": "stdout"
        }
      ]
    },
    {
      "cell_type": "code",
      "metadata": {
        "id": "2g3uUoG73UY_"
      },
      "source": [
        "##the model was trained for 30 epocs with two learning rates, i.e 0.1 and 0.01"
      ],
      "execution_count": null,
      "outputs": []
    },
    {
      "cell_type": "code",
      "metadata": {
        "id": "4J8dLorLq592"
      },
      "source": [
        "loaded_model.save('trained_model.h5')"
      ],
      "execution_count": null,
      "outputs": []
    },
    {
      "cell_type": "code",
      "metadata": {
        "id": "JTB4K7wost2o"
      },
      "source": [
        "#loaded_model.save_weights(WEIGHT_FILE_PATH)"
      ],
      "execution_count": null,
      "outputs": []
    },
    {
      "cell_type": "code",
      "metadata": {
        "id": "s5IS0e0ApbPP",
        "colab": {
          "base_uri": "https://localhost:8080/",
          "height": 309
        },
        "outputId": "ed230e10-7c38-4c88-d82e-4c1689ad1b65"
      },
      "source": [
        "!pip install numpy==1.16.1\n",
        "import numpy as np\n",
        "#REF : https://stackoverflow.com/questions/55890813/how-to-fix-object-arrays-cannot-be-loaded-when-allow-pickle-false-for-imdb-loa"
      ],
      "execution_count": null,
      "outputs": [
        {
          "output_type": "stream",
          "text": [
            "Collecting numpy==1.16.1\n",
            "\u001b[?25l  Downloading https://files.pythonhosted.org/packages/f5/bf/4981bcbee43934f0adb8f764a1e70ab0ee5a448f6505bd04a87a2fda2a8b/numpy-1.16.1-cp36-cp36m-manylinux1_x86_64.whl (17.3MB)\n",
            "\u001b[K     |████████████████████████████████| 17.3MB 206kB/s \n",
            "\u001b[31mERROR: umap-learn 0.4.6 has requirement numpy>=1.17, but you'll have numpy 1.16.1 which is incompatible.\u001b[0m\n",
            "\u001b[31mERROR: datascience 0.10.6 has requirement folium==0.2.1, but you'll have folium 0.8.3 which is incompatible.\u001b[0m\n",
            "\u001b[31mERROR: albumentations 0.1.12 has requirement imgaug<0.2.7,>=0.2.5, but you'll have imgaug 0.2.9 which is incompatible.\u001b[0m\n",
            "\u001b[?25hInstalling collected packages: numpy\n",
            "  Found existing installation: numpy 1.18.5\n",
            "    Uninstalling numpy-1.18.5:\n",
            "      Successfully uninstalled numpy-1.18.5\n",
            "Successfully installed numpy-1.16.1\n"
          ],
          "name": "stdout"
        },
        {
          "output_type": "display_data",
          "data": {
            "application/vnd.colab-display-data+json": {
              "pip_warning": {
                "packages": [
                  "numpy"
                ]
              }
            }
          },
          "metadata": {
            "tags": []
          }
        }
      ]
    },
    {
      "cell_type": "markdown",
      "metadata": {
        "id": "oaZ3HOok2hlC"
      },
      "source": [
        "##prediction"
      ]
    },
    {
      "cell_type": "code",
      "metadata": {
        "id": "mn2Aq3iZnEVq",
        "colab": {
          "base_uri": "https://localhost:8080/",
          "height": 54
        },
        "outputId": "8acb04cc-7895-41c1-fc95-cb2938b977b1"
      },
      "source": [
        "from keras.models import Model\n",
        "from keras.layers import Input, LSTM, Dense\n",
        "from keras.preprocessing.sequence import pad_sequences\n",
        "import numpy as np\n",
        "import nltk\n",
        "import os\n",
        "import sys\n",
        "import zipfile\n",
        "import urllib\n",
        "from keras.models import model_from_json\n",
        "\n",
        "HIDDEN_UNITS = 256\n",
        "WHITELIST = 'abcdefghijklmnopqrstuvwxyz1234567890?.,'\n",
        "GLOVE_EMBEDDING_SIZE = 100\n",
        "DATA_SET_NAME = 'cornell'\n",
        "\n",
        "class CornellWordGloveChatBot(object):\n",
        "    model = None\n",
        "    encoder_model = None\n",
        "    decoder_model = None\n",
        "    target_word2idx = None\n",
        "    target_idx2word = None\n",
        "    max_decoder_seq_length = None\n",
        "    max_encoder_seq_length = None\n",
        "    num_decoder_tokens = None\n",
        "    word2em = None\n",
        "\n",
        "    def __init__(self):\n",
        "        self.word2em = word2embed\n",
        "        #print(len(self.word2em))\n",
        "        #print(self.word2em['start'])\n",
        "\n",
        "        self.target_word2idx = np.load('word-glove-target-word2idx.npy').item()\n",
        "        self.target_idx2word = np.load('word-glove-target-idx2word.npy').item()\n",
        "        context = np.load('word-glove-context.npy').item()\n",
        "        self.max_encoder_seq_length = context['encoder_max_seq_length']\n",
        "        self.max_decoder_seq_length = context['decoder_max_seq_length']\n",
        "        self.num_decoder_tokens = context['num_decoder_tokens']\n",
        "\n",
        "        encoder_inputs = Input(shape=(None, GLOVE_EMBEDDING_SIZE), name='encoder_inputs')\n",
        "        encoder_lstm = LSTM(units=HIDDEN_UNITS, return_state=True, name=\"encoder_lstm\")\n",
        "        encoder_outputs, encoder_state_h, encoder_state_c = encoder_lstm(encoder_inputs)\n",
        "        encoder_states = [encoder_state_h, encoder_state_c]\n",
        "\n",
        "        decoder_inputs = Input(shape=(None, GLOVE_EMBEDDING_SIZE), name='decoder_inputs')\n",
        "        decoder_lstm = LSTM(units=HIDDEN_UNITS, return_sequences=True, return_state=True, name='decoder_lstm')\n",
        "        decoder_outputs, _, _ = decoder_lstm(decoder_inputs, initial_state=encoder_states)\n",
        "        decoder_dense = Dense(self.num_decoder_tokens, activation='softmax', name='decoder_dense')\n",
        "        decoder_outputs = decoder_dense(decoder_outputs)\n",
        "\n",
        "        self.model = Model([encoder_inputs, decoder_inputs], decoder_outputs)\n",
        "\n",
        "        model_json = open('/content/word-architecture.json', 'r').read()\n",
        "        self.model = model_from_json(model_json)\n",
        "        self.model.load_weights('cornell-word-glove-weights.h5')\n",
        "        self.model.compile(optimizer='rmsprop', loss='categorical_crossentropy')\n",
        "\n",
        "        self.encoder_model = Model(encoder_inputs, encoder_states)\n",
        "\n",
        "        decoder_state_inputs = [Input(shape=(HIDDEN_UNITS,)), Input(shape=(HIDDEN_UNITS,))]\n",
        "        decoder_outputs, state_h, state_c = decoder_lstm(decoder_inputs, initial_state=decoder_state_inputs)\n",
        "        decoder_states = [state_h, state_c]\n",
        "        decoder_outputs = decoder_dense(decoder_outputs)\n",
        "        self.decoder_model = Model([decoder_inputs] + decoder_state_inputs, [decoder_outputs] + decoder_states)\n",
        "\n",
        "    def reply(self, input_text):\n",
        "        input_seq = []\n",
        "        input_emb = []\n",
        "        for word in nltk.word_tokenize(input_text.lower()):\n",
        "            if not in_white_list(word):\n",
        "                continue\n",
        "            emb = np.zeros(shape=GLOVE_EMBEDDING_SIZE)\n",
        "            if word in self.word2em:\n",
        "                emb = self.word2em[word]\n",
        "            input_emb.append(emb)\n",
        "        input_seq.append(input_emb)\n",
        "        input_seq = pad_sequences(input_seq, self.max_encoder_seq_length)\n",
        "        states_value = self.encoder_model.predict(input_seq)\n",
        "        target_seq = np.zeros((1, 1, GLOVE_EMBEDDING_SIZE))\n",
        "        target_seq[0, 0, :] = self.word2em['start']\n",
        "        target_text = ''\n",
        "        target_text_len = 0\n",
        "        terminated = False\n",
        "        while not terminated:\n",
        "            output_tokens, h, c = self.decoder_model.predict([target_seq] + states_value)\n",
        "            [[0.43,1.32,0],[0,0,1]]\n",
        "            sample_token_idx = np.argmax(output_tokens[0, -1, :])\n",
        "            sample_word = self.target_idx2word[sample_token_idx]\n",
        "            target_text_len += 1\n",
        "\n",
        "            if sample_word != 'start' and sample_word != 'end':\n",
        "                target_text += ' ' + sample_word\n",
        "\n",
        "            if sample_word == 'end' or target_text_len >= self.max_decoder_seq_length:\n",
        "                terminated = True\n",
        "\n",
        "            target_seq = np.zeros((1, 1, GLOVE_EMBEDDING_SIZE))\n",
        "            if sample_word in self.word2em:\n",
        "                target_seq[0, 0, :] = self.word2em[sample_word]\n",
        "\n",
        "            states_value = [h, c]\n",
        "        return target_text.strip()\n",
        "\n",
        "    def test_run(self):\n",
        "        print(self.reply('good morning'))\n",
        "        #print(self.reply('How are you doing?'))\n",
        "        #print(self.reply('Have you heard the news?'))\n",
        "\n",
        "\n",
        "def main():\n",
        "    model = CornellWordGloveChatBot()\n",
        "    model.test_run()\n",
        "\n",
        "if __name__ == '__main__':\n",
        "    main()"
      ],
      "execution_count": null,
      "outputs": [
        {
          "output_type": "stream",
          "text": [
            "appearance appearance reagan species pipeline housekeeper foundation housekeeper foundation foundation housekeeper foundation fuck canceled excalibur excalibur starks treadstone machine section shades apiece touching problems verge touching cone sniffing sniffing bully exciting ammunition sniffing sniffing sniffing sniffing pet sniffing sniffing pet sniffing sniffing\n"
          ],
          "name": "stdout"
        }
      ]
    },
    {
      "cell_type": "markdown",
      "metadata": {
        "id": "3A7qVdecHaWz"
      },
      "source": [
        "With very less training model is able to predict this, clearly shows that training has to be for longer "
      ]
    },
    {
      "cell_type": "code",
      "metadata": {
        "id": "DiqHXgYWGYZl"
      },
      "source": [
        "##Further work can be done by to increase the accuracy and lower the loss by introducing the attention mechanism\n",
        "#ref: https://towardsdatascience.com/intuitive-understanding-of-attention-mechanism-in-deep-learning-6c9482aecf4f"
      ],
      "execution_count": null,
      "outputs": []
    }
  ]
}